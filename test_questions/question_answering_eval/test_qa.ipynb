{
 "cells": [
  {
   "cell_type": "markdown",
   "metadata": {},
   "source": [
    "# Getting answers"
   ]
  },
  {
   "cell_type": "markdown",
   "metadata": {},
   "source": [
    "Load first 100 questions."
   ]
  },
  {
   "cell_type": "code",
   "execution_count": null,
   "metadata": {},
   "outputs": [],
   "source": [
    "import json\n",
    "\n",
    "questions_file_name = \"../questions/final_questions.json\"\n",
    "question_answer_pairs = json.loads(open(questions_file_name).read())\n",
    "\n",
    "questions = [qa[\"question\"] for qa in question_answer_pairs]\n",
    "questions = questions[:100]"
   ]
  },
  {
   "cell_type": "markdown",
   "metadata": {},
   "source": [
    "Request answer from server."
   ]
  },
  {
   "cell_type": "code",
   "execution_count": null,
   "metadata": {},
   "outputs": [],
   "source": [
    "import requests\n",
    "from datetime import datetime\n",
    "\n",
    "def get_info_from_rag(question: str):\n",
    "    prompt_template = f\"{question}\"\n",
    "    response = requests.post(\n",
    "        f\"http://127.0.0.1:5555/rags\",\n",
    "        json={\"text\": f\"{prompt_template}\"},\n",
    "    )\n",
    "    \n",
    "    return response.json()\n",
    "\n",
    "\n",
    "current_time = datetime.now().strftime(\"%Y%m%d_%H%M%S\")\n",
    "bot_responses_file_name = f\"bot_responses_{current_time}.json\"\n",
    "with open(bot_responses_file_name, \"w\") as f:\n",
    "    i = 1\n",
    "    num_of_quest = len(questions)\n",
    "    for question in questions:\n",
    "        print(f\"Processing question {i}/{num_of_quest}\")\n",
    "        \n",
    "        rag_info = get_info_from_rag(question)\n",
    "        rag_response = rag_info[\"data\"]\n",
    "        f.write(json.dumps(rag_response) + \",\\n\")\n",
    "        \n",
    "        i += 1\n",
    "        \n",
    "print(\"--- DONE ---\")"
   ]
  },
  {
   "cell_type": "markdown",
   "metadata": {},
   "source": [
    "Combine reference answer and the bot answer"
   ]
  },
  {
   "cell_type": "code",
   "execution_count": null,
   "metadata": {},
   "outputs": [],
   "source": [
    "bot_answers = json.loads(open(\"bot_responses_20241030_180851.json\").read())\n",
    "\n",
    "test_data = []\n",
    "for i, bot_answer in enumerate(bot_answers):\n",
    "    test_data.append({\n",
    "        \"context\": question_answer_pairs[i][\"context\"],\n",
    "        \"question\": question_answer_pairs[i][\"question\"],\n",
    "        \"reference_answer\": question_answer_pairs[i][\"answer\"],\n",
    "        \"bot_answer\": bot_answer,\n",
    "    })\n",
    "    \n",
    "combined_file_name = f\"combined_{current_time}.json\"\n",
    "with open(combined_file_name, \"w\") as f:\n",
    "    f.write(json.dumps(test_data))"
   ]
  },
  {
   "cell_type": "markdown",
   "metadata": {},
   "source": [
    "# Evaluate QA performance"
   ]
  },
  {
   "cell_type": "markdown",
   "metadata": {},
   "source": [
    "Load questions and answers dataset."
   ]
  },
  {
   "cell_type": "code",
   "execution_count": null,
   "metadata": {},
   "outputs": [],
   "source": [
    "# Load the combined file\n",
    "qa_data = json.loads(open(combined_file_name).read())\n",
    "qa_len = len(qa_data)\n",
    "qa_len"
   ]
  },
  {
   "cell_type": "markdown",
   "metadata": {},
   "source": [
    "## SaCC and LaCC"
   ]
  },
  {
   "cell_type": "code",
   "execution_count": null,
   "metadata": {},
   "outputs": [],
   "source": [
    "def sacc(reference: str, answer: str):\n",
    "    return 1 if reference == answer else 0\n",
    "\n",
    "def lacc(reference: str, answer: str):\n",
    "    ref_tokens = reference.split()\n",
    "    answer_tokens = answer.split()\n",
    "    \n",
    "    common_tokens = set(ref_tokens).intersection(set(answer_tokens))\n",
    "    \n",
    "    return 1 if len(common_tokens) > 0 else 0"
   ]
  },
  {
   "cell_type": "code",
   "execution_count": null,
   "metadata": {},
   "outputs": [],
   "source": [
    "sacc_score = 0\n",
    "lacc_score = 0\n",
    "\n",
    "for qa in qa_data:\n",
    "    sacc_score += sacc(qa[\"reference_answer\"], qa[\"bot_answer\"])\n",
    "    lacc_score += lacc(qa[\"reference_answer\"], qa[\"bot_answer\"])\n",
    "    \n",
    "final_sacc_score = sacc_score / qa_len\n",
    "final_lacc_score = lacc_score / qa_len\n",
    "\n",
    "print(f\"SACC: {final_sacc_score}\")\n",
    "print(f\"LACC: {final_lacc_score}\")"
   ]
  },
  {
   "cell_type": "markdown",
   "metadata": {},
   "source": [
    "## F1 score"
   ]
  },
  {
   "cell_type": "code",
   "execution_count": null,
   "metadata": {},
   "outputs": [],
   "source": [
    "def precision(reference: str, answer: str):\n",
    "    ref_tokens = reference.split()\n",
    "    answer_tokens = answer.split()\n",
    "    \n",
    "    common_tokens = set(ref_tokens).intersection(set(answer_tokens))\n",
    "    \n",
    "    return len(common_tokens) / len(answer_tokens)\n",
    "\n",
    "def recall(reference: str, answer: str):\n",
    "    ref_tokens = reference.split()\n",
    "    answer_tokens = answer.split()\n",
    "    \n",
    "    common_tokens = set(ref_tokens).intersection(set(answer_tokens))\n",
    "    \n",
    "    return len(common_tokens) / len(ref_tokens)\n",
    "\n",
    "def f1_score(reference: str, answer: str):\n",
    "    prec = precision(reference, answer)\n",
    "    rec = recall(reference, answer)\n",
    "    \n",
    "    if prec + rec == 0:\n",
    "        return 0\n",
    "    \n",
    "    return 2 * ((prec * rec) / (prec + rec))"
   ]
  },
  {
   "cell_type": "code",
   "execution_count": null,
   "metadata": {},
   "outputs": [],
   "source": [
    "f1 = 0\n",
    "\n",
    "for qa in qa_data:\n",
    "    f1 += f1_score(qa[\"reference_answer\"], qa[\"bot_answer\"])\n",
    "    \n",
    "final_f1 = f1 / qa_len\n",
    "print(f\"F1: {final_f1}\")"
   ]
  },
  {
   "cell_type": "markdown",
   "metadata": {},
   "source": [
    "## G-eval"
   ]
  },
  {
   "cell_type": "markdown",
   "metadata": {},
   "source": [
    "Enter OPENAi API key to get G-eval score"
   ]
  },
  {
   "cell_type": "code",
   "execution_count": null,
   "metadata": {},
   "outputs": [],
   "source": [
    "%env OPENAI_API_KEY="
   ]
  },
  {
   "cell_type": "markdown",
   "metadata": {},
   "source": [
    "Define metrics."
   ]
  },
  {
   "cell_type": "code",
   "execution_count": null,
   "metadata": {},
   "outputs": [],
   "source": [
    "from deepeval.metrics import GEval\n",
    "from deepeval.test_case import LLMTestCaseParams\n",
    "\n",
    "correctness_metric = GEval(\n",
    "    name=\"Correctness\",\n",
    "    criteria=\"The actual output must provide the correct information, adhering to the facts or knowledge available on the topic. The expected output is the ground truth.\",\n",
    "    evaluation_params=[LLMTestCaseParams.INPUT, LLMTestCaseParams.ACTUAL_OUTPUT, LLMTestCaseParams.EXPECTED_OUTPUT]\n",
    ")\n",
    "\n",
    "completeness_metric = GEval(\n",
    "    name=\"Completeness\",\n",
    "    criteria=\"The actual output should be comprehensive enough to cover all essential parts of the input, without omitting critical information.\",\n",
    "    evaluation_params=[LLMTestCaseParams.INPUT, LLMTestCaseParams.ACTUAL_OUTPUT, LLMTestCaseParams.EXPECTED_OUTPUT]\n",
    ")\n",
    "\n",
    "relevance_metric = GEval(\n",
    "    name=\"Relevance\",\n",
    "    criteria=\"The actual output must directly address the input without including unnecessary or unrelated information.\",\n",
    "    evaluation_params=[LLMTestCaseParams.INPUT, LLMTestCaseParams.ACTUAL_OUTPUT, LLMTestCaseParams.EXPECTED_OUTPUT]\n",
    ")"
   ]
  },
  {
   "cell_type": "markdown",
   "metadata": {},
   "source": [
    "Evaluate QA performance using G-eval on correctness."
   ]
  },
  {
   "cell_type": "code",
   "execution_count": null,
   "metadata": {},
   "outputs": [],
   "source": [
    "from deepeval.test_case import LLMTestCase\n",
    "from deepeval import evaluate\n",
    "\n",
    "# Create test cases\n",
    "g_test_cases = []\n",
    "i = 1\n",
    "for qa in qa_data:\n",
    "    test_case = LLMTestCase(\n",
    "        input=qa[\"question\"],\n",
    "        actual_output=qa[\"bot_answer\"],\n",
    "        expected_output=qa[\"reference_answer\"],\n",
    "    )\n",
    "    \n",
    "    g_test_cases.append(test_case)\n",
    "\n",
    "# Evaluate\n",
    "g_correct_result = evaluate(g_test_cases, metrics=[correctness_metric])\n",
    "g_correct_result"
   ]
  },
  {
   "cell_type": "markdown",
   "metadata": {},
   "source": [
    "Evaluate QA performance using G-eval on completeness."
   ]
  },
  {
   "cell_type": "code",
   "execution_count": null,
   "metadata": {},
   "outputs": [],
   "source": [
    "g_completeness_result = evaluate(g_test_cases, metrics=[completeness_metric])\n",
    "g_completeness_result"
   ]
  },
  {
   "cell_type": "markdown",
   "metadata": {},
   "source": [
    "Evaluate QA performance using G-eval on relevance."
   ]
  },
  {
   "cell_type": "code",
   "execution_count": null,
   "metadata": {},
   "outputs": [],
   "source": [
    "g_relevance_result = evaluate(g_test_cases, metrics=[relevance_metric])\n",
    "g_relevance_result"
   ]
  },
  {
   "cell_type": "markdown",
   "metadata": {},
   "source": [
    "## Hallucination evaluation"
   ]
  },
  {
   "cell_type": "code",
   "execution_count": null,
   "metadata": {},
   "outputs": [],
   "source": [
    "from deepeval import evaluate\n",
    "from deepeval.metrics import HallucinationMetric\n",
    "from deepeval.test_case import LLMTestCase\n",
    "\n",
    "hallucination_test_cases = []\n",
    "for qa in qa_data:\n",
    "    test_case = LLMTestCase(\n",
    "        input=qa[\"question\"],\n",
    "        expected_output=qa[\"reference_answer\"],\n",
    "        actual_output=qa[\"bot_answer\"],\n",
    "        context=[qa[\"context\"]],\n",
    "    )\n",
    "    \n",
    "    hallucination_test_cases.append(test_case)\n",
    "    \n",
    "hallucinatin_metric = HallucinationMetric(threshold=0.5)\n",
    "\n",
    "h_result = evaluate(hallucination_test_cases, [hallucinatin_metric])\n",
    "h_result"
   ]
  },
  {
   "cell_type": "markdown",
   "metadata": {},
   "source": [
    "# Conclusion"
   ]
  },
  {
   "attachments": {
    "image.png": {
     "image/png": "[encoded data removed]"
    }
   },
   "cell_type": "markdown",
   "metadata": {},
   "source": [
    "![image.png](attachment:image.png)"
   ]
  }
 ],
 "metadata": {
  "kernelspec": {
   "display_name": "stock_chatbot",
   "language": "python",
   "name": "python3"
  },
  "language_info": {
   "codemirror_mode": {
    "name": "ipython",
    "version": 3
   },
   "file_extension": ".py",
   "mimetype": "text/x-python",
   "name": "python",
   "nbconvert_exporter": "python",
   "pygments_lexer": "ipython3",
   "version": "3.10.14"
  }
 },
 "nbformat": 4,
 "nbformat_minor": 2
}
